{
  "nbformat": 4,
  "nbformat_minor": 0,
  "metadata": {
    "colab": {
      "provenance": [],
      "authorship_tag": "ABX9TyMVua3qg/9PGzeyAkPwGC3s",
      "include_colab_link": true
    },
    "kernelspec": {
      "name": "python3",
      "display_name": "Python 3"
    },
    "language_info": {
      "name": "python"
    }
  },
  "cells": [
    {
      "cell_type": "markdown",
      "metadata": {
        "id": "view-in-github",
        "colab_type": "text"
      },
      "source": [
        "<a href=\"https://colab.research.google.com/github/SungWoonJo/RichProject/blob/main/RichProject_Code_ChatGPT.ipynb\" target=\"_parent\"><img src=\"https://colab.research.google.com/assets/colab-badge.svg\" alt=\"Open In Colab\"/></a>"
      ]
    },
    {
      "cell_type": "code",
      "execution_count": null,
      "metadata": {
        "id": "m5hI-70TtYOw"
      },
      "outputs": [],
      "source": [
        "# 전체 자동화 루틴 코드 - 급등 분석 및 예측, 텔레그램 알림 포함\n",
        "# 이 코드는 로컬 또는 클라우드 환경에서 실행 가능하며, 매일 아침 6시에 동작하도록 설정할 수 있습니다.\n",
        "\n",
        "import ccxt\n",
        "import pandas as pd\n",
        "import numpy as np\n",
        "import datetime as dt\n",
        "from ta.momentum import RSIIndicator\n",
        "from ta.trend import MACD\n",
        "from ta.volatility import BollingerBands\n",
        "import telegram\n",
        "import os\n",
        "\n",
        "# 1. 업비트 데이터 수집 함수 (1시간 봉)\n",
        "def fetch_upbit_ohlcv(ticker, since):\n",
        "    upbit = ccxt.upbit()\n",
        "    since_ms = int(since.timestamp() * 1000)\n",
        "    ohlcv = upbit.fetch_ohlcv(ticker, timeframe='1h', since=since_ms)\n",
        "    df = pd.DataFrame(ohlcv, columns=['timestamp', 'open', 'high', 'low', 'close', 'volume'])\n",
        "    df['datetime'] = pd.to_datetime(df['timestamp'], unit='ms')\n",
        "    return df\n",
        "\n",
        "# 2. 기술적 지표 계산 함수\n",
        "def add_technical_indicators(df):\n",
        "    df['rsi'] = RSIIndicator(df['close'], window=14).rsi()\n",
        "    macd = MACD(df['close'])\n",
        "    df['macd'] = macd.macd()\n",
        "    df['macd_signal'] = macd.macd_signal()\n",
        "    bb = BollingerBands(df['close'])\n",
        "    df['bb_upper'] = bb.bollinger_hband()\n",
        "    df['bb_lower'] = bb.bollinger_lband()\n",
        "    df['golden_cross'] = (df['close'].rolling(5).mean() > df['close'].rolling(20).mean()).astype(int)\n",
        "    return df\n",
        "\n",
        "# 3. 급등 종목 찾기 (1시간 내 25% 상승)\n",
        "def detect_surge(df):\n",
        "    df['return'] = df['close'].pct_change()\n",
        "    for i in range(1, len(df)):\n",
        "        if df['close'].iloc[i] >= df['close'].iloc[i-1] * 1.25:\n",
        "            return True, df.iloc[i]['datetime']\n",
        "    return False, None\n",
        "\n",
        "# 4. 예측 후보 탐색 (간단한 유사 패턴 탐색)\n",
        "def is_similar_pattern(df):\n",
        "    last = df.iloc[-1]\n",
        "    return (last['rsi'] < 40 and last['macd'] > last['macd_signal'] and last['close'] < last['bb_upper'])\n",
        "\n",
        "# 5. 텔레그램 알림 전송 함수\n",
        "def send_telegram_message(message):\n",
        "    TOKEN = os.getenv(\"8151279259:AAEHCbx42TkDaZ2G-Jo5yWm-1jGTkH1INPE\")\n",
        "    CHAT_ID = os.getenv(\"1601533002\")\n",
        "    bot = telegram.Bot(token=TOKEN)\n",
        "    bot.send_message(chat_id=CHAT_ID, text=message)\n",
        "\n",
        "# 6. 전체 루틴 실행 함수\n",
        "def run_your_full_analysis():\n",
        "    upbit = ccxt.upbit()\n",
        "    markets = upbit.load_markets()\n",
        "    tickers = [symbol for symbol in markets if symbol.startswith('KRW/') and symbol not in ['KRW/BTC', 'KRW/ETH']]\n",
        "    result = []\n",
        "\n",
        "    for ticker in tickers:\n",
        "        try:\n",
        "            df = fetch_upbit_ohlcv(ticker, dt.datetime.now() - dt.timedelta(days=180))\n",
        "            df = add_technical_indicators(df)\n",
        "            surged, surge_time = detect_surge(df)\n",
        "            if surged:\n",
        "                df_recent = df[df['datetime'] < surge_time].tail(30)\n",
        "                if is_similar_pattern(df_recent):\n",
        "                    result.append((ticker, surge_time))\n",
        "        except Exception as e:\n",
        "            continue\n",
        "\n",
        "    if result:\n",
        "        msg = '\\n'.join([f\"급등 후보: {r[0]} (예상 시점: {r[1]})\" for r in result])\n",
        "    else:\n",
        "        msg = \"예측된 급등 종목이 없습니다.\"\n",
        "\n",
        "    send_telegram_message(\"[업비트 급등 예측 결과]\\n\" + msg)\n",
        "\n",
        "# 이 코드는 외부에서 run_your_full_analysis()를 호출하면 실행됩니다.\n",
        "# 작업 스케줄러 또는 클라우드 예약 실행기로 설정 가능\n"
      ]
    }
  ]
}